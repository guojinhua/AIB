{
 "cells": [
  {
   "cell_type": "markdown",
   "metadata": {},
   "source": [
    "# Introduction to Artificial Intelligence for Non Computing"
   ]
  },
  {
   "cell_type": "markdown",
   "metadata": {},
   "source": [
    "## Practical 2 (weeks 3 - 4)"
   ]
  },
  {
   "cell_type": "markdown",
   "metadata": {},
   "source": [
    "## Search Techniques"
   ]
  },
  {
   "cell_type": "markdown",
   "metadata": {},
   "source": [
    "The following links provide additional information about depth first search and breath first search"
   ]
  },
  {
   "cell_type": "markdown",
   "metadata": {},
   "source": [
    "- Depth first search:   link：https://pan.baidu.com/s/1bkLHKKbSBNpfFuKwDyURqw  password：oy76\n",
    "- Breath first search:  link：https://pan.baidu.com/s/176g5q0W3rGbSAM5tZMraeg   password：7mdh"
   ]
  },
  {
   "cell_type": "markdown",
   "metadata": {},
   "source": [
    "#### Theory Questions "
   ]
  },
  {
   "cell_type": "markdown",
   "metadata": {},
   "source": [
    "1\\. What is an algorithm? A sequence of steps such as a recipe or a movie script.\n",
    "\n",
    "As a movie viewer, please write an algorithm for a process to \"see a movie\". Include details of the following for example (add additional information yourself):\n",
    "\t- The start conditions \n",
    "\t-- I want to watch a movie\n",
    "\t- Roles (people/actors involved) \n",
    "    --watcher, ticket seller etc \n",
    "    -Equipment required (\"props\")\n",
    "    --seats, ticket etc\n",
    "    - The scenes \n",
    "    -- scene 1 - buy ticket \n",
    "    -- ??? what happens next\n",
    "    -- scene 3, scene 3 ...\n",
    "    - Results/outcomes\n",
    "    -- ?\n"
   ]
  },
  {
   "cell_type": "markdown",
   "metadata": {},
   "source": [
    "_your answer here..._ \n",
    "\n",
    "***"
   ]
  },
  {
   "cell_type": "markdown",
   "metadata": {},
   "source": [
    "2\\. A farmer with his wolf, duck and bag of corn come to the east side of a river they wish to cross. There is a boat at the rivers edge, but of course only the farmer can row. The boat can only hold two things (including the rower) at any one time. If the wolf is ever left alone with the duck, the wolf will eat it. Similarly if the duck is ever left alone with the corn, the duck will eat it. How can the farmer get across the river so that all four arrive safely on the other side? "
   ]
  },
  {
   "cell_type": "markdown",
   "metadata": {},
   "source": [
    "_your answer here..._ \n",
    "\n",
    "***"
   ]
  },
  {
   "cell_type": "markdown",
   "metadata": {},
   "source": [
    " "
   ]
  },
  {
   "cell_type": "markdown",
   "metadata": {},
   "source": [
    "3\\.Explain why we determine our problem goals before we write the problem formulation (including the model and deciding what algorithm or techniques to use - for example search, or other method).\n",
    "\n",
    "See Chapter3.1 (Russel & Norvig)"
   ]
  },
  {
   "cell_type": "markdown",
   "metadata": {},
   "source": [
    "_your answer here..._ \n",
    "\n",
    "****"
   ]
  },
  {
   "cell_type": "markdown",
   "metadata": {},
   "source": [
    "4\\. This question requires you to perform BFS and DFS on paper.\n",
    "\n",
    "<img src=\"img/p1.png\" width=\"180\" height=\"180\" >\n",
    "\n",
    "1. Simulate (on pencil-and-paper) breadth-first search starting from node A when the goal node is K.\n",
    "2. Simulate (on pencil-and-paper) depth first search starting from node A when the goal node is I.\n"
   ]
  },
  {
   "cell_type": "markdown",
   "metadata": {},
   "source": [
    "1. _your answer here..._ \n",
    "2. _your answer here..._ \n",
    "\n",
    "***"
   ]
  },
  {
   "cell_type": "markdown",
   "metadata": {},
   "source": [
    "5\\.Consider a state space where the start state is number 1 and each state  k has two successors: numbers 2k and 2k + 1.\n",
    "- a. Draw the portion of the state space for states 1 to 15.\n",
    "- b. Suppose the goal state is 11. List the order in which nodes will be visited for breadthfirst\n",
    "search, depth-limited search with limit 3, and iterative deepening search.\n",
    "- c. How well would bidirectional search work on this problem? What is the branching\n",
    "factor in each direction of the bidirectional search?\n",
    "- d. Does the answer to (c) suggest a reformulation of the problem that would allow you to\n",
    "solve the problem of getting from state 1 to a given goal state with almost no search?\n",
    "- e. Call the action going from k to 2k Left, and the action going to 2k + 1 Right. Can you\n",
    "find an algorithm that outputs the solution to this problem without any search at all?\n",
    "\n",
    "See textbook Chapter3.15"
   ]
  },
  {
   "cell_type": "markdown",
   "metadata": {},
   "source": [
    "_your answer here..._ "
   ]
  },
  {
   "cell_type": "markdown",
   "metadata": {},
   "source": [
    "### Programming Excercises"
   ]
  },
  {
   "cell_type": "markdown",
   "metadata": {},
   "source": [
    "1\\.Write a program to solve a classic ancient Chinese puzzle:  \n",
    " We count 35 heads and 94 legs among the chickens and rabbits in a farm. How many rabbits and how many chickens do we have? "
   ]
  },
  {
   "cell_type": "code",
   "execution_count": 2,
   "metadata": {},
   "outputs": [
    {
     "name": "stdout",
     "output_type": "stream",
     "text": [
      "('chicken:23', 'rabbit:12')\n",
      "no solutions!\n"
     ]
    }
   ],
   "source": [
    "##Hint:Use for loop to iterate all possible\n",
    "## write your answer here!\n",
    "def chirab(head,leg):\n",
    "    for i in range(1,head+1):\n",
    "        if leg == (i*2+(head-i)*4):\n",
    "            return (\"chicken:\"+str(i),\"rabbit:\"+str(head-i))\n",
    "    else:\n",
    "        return (\"no solutions!\")\n",
    "    \n",
    "print(chirab(35,94))\n",
    "print (chirab(2,1))"
   ]
  },
  {
   "cell_type": "markdown",
   "metadata": {},
   "source": [
    "2\\. _Social networking_ Please look at the graph below of social relationships. You have a mango farm, you need to find a mango buyer and sell him your mango that you have grown (just a small farm). To this end, our principle is to use our social network of friends separated by one degree, and then second degree friends (friends of friends), third degree friends (friends of friends of friends).\n",
    "\n",
    "Use the depth first algorithm to search your network until you find a mango seller. \n",
    "\n",
    "We make an assumption that if the person's name ends with m, then it means the person must be the mango seller!\n",
    "\n",
    "\n",
    "<img src=\"img/p3.png\" width=\"500\" height=\"400\" >"
   ]
  },
  {
   "cell_type": "code",
   "execution_count": 3,
   "metadata": {},
   "outputs": [
    {
     "name": "stdout",
     "output_type": "stream",
     "text": [
      "thom is the buyer!\n"
     ]
    }
   ],
   "source": [
    "## write your answer here!\n",
    "graph = {}\n",
    "graph[\"you\"] = [\"alice\",\"bob\",\"claire\"]\n",
    "graph[\"bob\"] = [\"anuj\",\"peggy\"]\n",
    "graph[\"alice\"] = [\"peggy\"]\n",
    "graph[\"claire\"] = [\"thom\",\"jonny\"]\n",
    "graph[\"anuj\"] = []\n",
    "graph[\"peggy\"] = []\n",
    "graph[\"thom\"] = []\n",
    "graph[\"jonny\"] = []\n",
    "\n",
    "def findout(name):\n",
    "    return (name[-1] == \"m\")\n",
    "\n",
    "def main():\n",
    "    searching = []\n",
    "    searched = []\n",
    "    searching += graph[\"you\"]\n",
    "    while searching:\n",
    "        nextPeople = searching.pop()\n",
    "        if findout(nextPeople):\n",
    "            print(nextPeople + \" is the buyer!\")\n",
    "        else:\n",
    "            searched.append(nextPeople)\n",
    "            searching += graph[nextPeople]\n",
    "\n",
    "if __name__ == '__main__':\n",
    "    main()"
   ]
  },
  {
   "cell_type": "markdown",
   "metadata": {},
   "source": [
    "3\\. Depth First traverse：Use depth first traversal to traverse all the DLL files on the C disk and output the file names.\n",
    "\n",
    "Update your code to search for a particular filename.\n",
    "\n",
    "What protocol did you use to select the next node to expand on the fringe?"
   ]
  },
  {
   "cell_type": "code",
   "execution_count": null,
   "metadata": {},
   "outputs": [],
   "source": [
    "## write your answer here!\n",
    "import os\n",
    "import fnmatch\n",
    "def dfstranverse(path):\n",
    "    tranversing = []\n",
    "    # tranversed = []\n",
    "    tranversing.append(path)\n",
    "    while tranversing:\n",
    "        nextFile = tranversing.pop()\n",
    "        try:\n",
    "            list = os.listdir(nextFile)\n",
    "        except WindowsError as e:\n",
    "            pass\n",
    "\n",
    "        for filename in list:\n",
    "            next = os.path.join(nextFile,filename)\n",
    "            if os.path.isfile(next):\n",
    "                if fnmatch.fnmatch(filename,'*.dll'):\n",
    "                    print (filename)\n",
    "            elif os.path.isdir(next):\n",
    "                tranversing.append(next)\n",
    "# dfstranverse('C:\\\\')"
   ]
  },
  {
   "cell_type": "markdown",
   "metadata": {},
   "source": [
    "4\\.\n",
    "Breadth First traverse：Use breadth traversal to traverse all the DLL files on the C disk and output the filename.\n",
    "\n",
    "Update your code to search for a particular filename."
   ]
  },
  {
   "cell_type": "code",
   "execution_count": null,
   "metadata": {},
   "outputs": [],
   "source": [
    "## write your answer here!\n",
    "class Queue:\n",
    "    \"A container with a first-in-first-out (FIFO) queuing policy.\"\n",
    "    def __init__(self):\n",
    "        self.list = []\n",
    "\n",
    "    def push(self,item):\n",
    "        \"Enqueue the 'item' into the queue\"\n",
    "        self.list.insert(0,item)\n",
    "\n",
    "    def pop(self):\n",
    "        \"\"\"\n",
    "          Dequeue the earliest enqueued item still in the queue. This\n",
    "          operation removes the item from the queue.\n",
    "        \"\"\"\n",
    "        return self.list.pop()\n",
    "\n",
    "    def isEmpty(self):\n",
    "        \"Returns true if the queue is empty\"\n",
    "        return len(self.list) == 0\n",
    "\n",
    "def bfstranverse(path):\n",
    "    tranversing = Queue()\n",
    "    tranversing.push(path)\n",
    "    while not tranversing.isEmpty():\n",
    "        nextFile = tranversing.pop()\n",
    "        try:\n",
    "            list = os.listdir(nextFile)\n",
    "        except WindowsError as e:\n",
    "            pass\n",
    "        for filename in list:\n",
    "            next = os.path.join(nextFile, filename)\n",
    "            if os.path.isfile(next):\n",
    "                if fnmatch.fnmatch(filename, '*dll'):\n",
    "                    print(filename)\n",
    "            elif os.path.isdir(next):\n",
    "                tranversing.push(next)\n",
    "# bfstranverse('C:\\\\')"
   ]
  },
  {
   "cell_type": "markdown",
   "metadata": {},
   "source": [
    "5\\. Uniform cost search"
   ]
  },
  {
   "cell_type": "markdown",
   "metadata": {},
   "source": [
    "Consider a state space where the start state is 2 and each state k has three successors: numbers 2k, 2k+1, 2k+2. The cost from state k to each respective child is k, ground(k/2), k+2.\n",
    "\n",
    "can you implement a uniform-cost-search algorithm with python. The goal state is number 85."
   ]
  },
  {
   "cell_type": "code",
   "execution_count": 4,
   "metadata": {},
   "outputs": [
    {
     "name": "stdout",
     "output_type": "stream",
     "text": [
      "53\n"
     ]
    }
   ],
   "source": [
    "import math\n",
    "goal = 85\n",
    "# the length of the state list.\n",
    "state = [0] * (goal+2)\n",
    "\n",
    "start = 2\n",
    "state[start] = 0\n",
    "end = (int)((85+1)/2)\n",
    "\n",
    "for k in range(start,end):\n",
    "    for pos,cost in [(k*2, k),\n",
    "        (k*2 + 1, math.floor(k/2)),\n",
    "        (k*2+2, k+2)]:\n",
    "        state[pos] = state[k] + cost\n",
    "\n",
    "print(state[goal])"
   ]
  },
  {
   "cell_type": "markdown",
   "metadata": {},
   "source": [
    "6\\.a* question"
   ]
  },
  {
   "cell_type": "markdown",
   "metadata": {},
   "source": [
    "A cute cat stays in the A position, he is hungry. But the food is placed in the B position. Can you help him to find the food? \n",
    "Hint:  The problem isn't easy. It's essential for you to understand the A* algorithm before you solve this problem. Then, you can use some thought of Node in java, when you are in code.\n",
    "\n",
    "<img src=\"img/p4.png\" width=\"500\" height=\"400\" >\n"
   ]
  },
  {
   "cell_type": "code",
   "execution_count": 5,
   "metadata": {},
   "outputs": [
    {
     "name": "stdout",
     "output_type": "stream",
     "text": [
      "******************************* before *******************************\n",
      "[[1, 1, 1, 1, 1, 1, 1, 1, 1, 1, 1, 1, 1, 1, 1, 1, 1, 1, 1, 1], [1, 1, 1, 1, 1, 1, 1, 1, 1, 1, 1, 1, 1, 1, 1, 1, 1, 1, 1, 1], [1, 1, 1, 1, 1, 1, 1, 1, 1, 1, 1, 1, 1, 1, 1, 1, 1, 1, 1, 1], [1, 1, 1, 1, 1, 1, 1, 1, 1, 1, 1, 1, 1, 1, 1, 1, 1, 1, 1, 1], [1, 1, 1, 1, 1, 1, 1, 1, 1, 1, 1, 1, 1, 1, 1, 1, 1, 1, 1, 1], [1, 1, 1, 1, 1, 1, 1, 1, 1, 1, 1, 1, 1, 1, 1, 1, 1, 1, 1, 1], [1, 1, 1, 1, 1, 1, 1, 1, 1, 1, 1, 1, 1, 1, 1, 1, 1, 1, 1, 1], [1, 1, 1, 1, 1, 1, 1, 1, 1, 1, 1, 1, 1, 1, 1, 1, 1, 1, 1, 1], [1, 1, 1, 1, 1, 1, 1, 1, 1, 1, 1, 1, 1, 1, 1, 1, 1, 1, 1, 1], [1, 1, 1, 1, 1, 1, 1, 1, 1, 1, 1, 1, 1, 1, 1, 1, 1, 1, 1, 1], [1, 1, 1, 1, 1, 1, 1, 1, 1, 1, 1, 1, 1, 1, 1, 1, 1, 1, 1, 1], [1, 1, 1, 1, 1, 1, 1, 1, 1, 1, 1, 1, 1, 1, 1, 1, 1, 1, 1, 1], [1, 1, 1, 1, 1, 1, 1, 1, 1, 1, 1, 1, 1, 1, 1, 1, 1, 1, 1, 1], [1, 1, 1, 1, 1, 1, 1, 1, 1, 1, 1, 1, 1, 1, 1, 1, 1, 1, 1, 1], [1, 1, 1, 1, 1, 1, 1, 1, 1, 1, 1, 1, 1, 1, 1, 1, 1, 1, 1, 1], [1, 1, 1, 1, 1, 1, 1, 1, 1, 1, 1, 1, 1, 1, 1, 1, 1, 1, 1, 1], [1, 1, 1, 1, 1, 1, 1, 1, 1, 1, 1, 1, 1, 1, 1, 1, 1, 1, 1, 1], [1, 1, 1, 1, 1, 1, 1, 1, 1, 1, 1, 1, 1, 1, 1, 1, 1, 1, 1, 1], [1, 1, 1, 1, 1, 1, 1, 1, 1, 1, 1, 1, 1, 1, 1, 1, 1, 1, 1, 1], [1, 1, 1, 1, 1, 1, 1, 1, 1, 1, 1, 1, 1, 1, 1, 1, 1, 1, 1, 1]]\n",
      "******************************** after *******************************\n",
      "[[1, 1, 1, 1, 1, 1, 1, 1, 1, 1, 1, 1, 1, 1, 1, 1, 1, 1, 1, 1], [1, 1, 1, 1, 1, 1, 1, 1, 1, 1, 1, 1, 1, 1, 1, 1, 1, 1, 1, 1], [1, 1, 1, 1, 1, 1, 1, 1, 1, 1, 1, 1, 1, 1, 1, 1, 1, 1, 1, 1], [1, 1, 1, 1, 0, 2, 1, 1, 1, 1, 1, 1, 1, 1, 1, 1, 1, 1, 1, 1], [1, 1, 1, 1, 1, 2, 1, 1, 1, 1, 1, 1, 1, 1, 1, 1, 1, 1, 1, 1], [1, 1, 1, 1, 1, 2, 2, 1, 1, 1, 1, 1, 1, 1, 1, 1, 1, 1, 1, 1], [1, 1, 1, 1, 1, 1, 2, 1, 1, 1, 1, 1, 1, 1, 1, 1, 1, 1, 1, 1], [1, 1, 1, 1, 1, 1, 2, 1, 1, 1, 1, 1, 1, 1, 1, 1, 1, 1, 1, 1], [1, 1, 1, 1, 1, 1, 2, 2, 1, 1, 1, 1, 1, 1, 1, 1, 1, 1, 1, 1], [1, 1, 1, 1, 1, 1, 1, 2, 1, 1, 1, 1, 1, 1, 1, 1, 1, 1, 1, 1], [1, 1, 1, 1, 1, 1, 1, 2, 1, 1, 1, 1, 1, 1, 1, 1, 1, 1, 1, 1], [1, 1, 1, 1, 1, 1, 1, 2, 2, 1, 1, 1, 1, 1, 1, 1, 1, 1, 1, 1], [1, 1, 1, 1, 1, 1, 1, 1, 2, 2, 1, 1, 1, 1, 1, 1, 1, 1, 1, 1], [1, 1, 1, 1, 1, 1, 1, 1, 1, 0, 1, 1, 1, 1, 1, 1, 1, 1, 1, 1], [1, 1, 1, 1, 1, 1, 1, 1, 1, 1, 1, 1, 1, 1, 1, 1, 1, 1, 1, 1], [1, 1, 1, 1, 1, 1, 1, 1, 1, 1, 1, 1, 1, 1, 1, 1, 1, 1, 1, 1], [1, 1, 1, 1, 1, 1, 1, 1, 1, 1, 1, 1, 1, 1, 1, 1, 1, 1, 1, 1], [1, 1, 1, 1, 1, 1, 1, 1, 1, 1, 1, 1, 1, 1, 1, 1, 1, 1, 1, 1], [1, 1, 1, 1, 1, 1, 1, 1, 1, 1, 1, 1, 1, 1, 1, 1, 1, 1, 1, 1], [1, 1, 1, 1, 1, 1, 1, 1, 1, 1, 1, 1, 1, 1, 1, 1, 1, 1, 1, 1]]\n"
     ]
    }
   ],
   "source": [
    "## write your answer here!\n",
    "import math\n",
    "AB_MAP = [\n",
    "    [1, 1, 1, 1, 1, 1, 1, 1, 1, 1, 1, 1, 1, 1, 1, 1, 1, 1, 1, 1,],\n",
    "    [1, 1, 1, 1, 1, 1, 1, 1, 1, 1, 1, 1, 1, 1, 1, 1, 1, 1, 1, 1,],\n",
    "    [1, 1, 1, 1, 1, 1, 1, 1, 1, 1, 1, 1, 1, 1, 1, 1, 1, 1, 1, 1,],\n",
    "    [1, 1, 1, 1, 1, 1, 1, 1, 1, 1, 1, 1, 1, 1, 1, 1, 1, 1, 1, 1,],\n",
    "    [1, 1, 1, 1, 1, 1, 1, 1, 1, 1, 1, 1, 1, 1, 1, 1, 1, 1, 1, 1,],\n",
    "    [1, 1, 1, 1, 1, 1, 1, 1, 1, 1, 1, 1, 1, 1, 1, 1, 1, 1, 1, 1,],\n",
    "    [1, 1, 1, 1, 1, 1, 1, 1, 1, 1, 1, 1, 1, 1, 1, 1, 1, 1, 1, 1,],\n",
    "    [1, 1, 1, 1, 1, 1, 1, 1, 1, 1, 1, 1, 1, 1, 1, 1, 1, 1, 1, 1,],\n",
    "    [1, 1, 1, 1, 1, 1, 1, 1, 1, 1, 1, 1, 1, 1, 1, 1, 1, 1, 1, 1,],\n",
    "    [1, 1, 1, 1, 1, 1, 1, 1, 1, 1, 1, 1, 1, 1, 1, 1, 1, 1, 1, 1,],\n",
    "    [1, 1, 1, 1, 1, 1, 1, 1, 1, 1, 1, 1, 1, 1, 1, 1, 1, 1, 1, 1,],\n",
    "    [1, 1, 1, 1, 1, 1, 1, 1, 1, 1, 1, 1, 1, 1, 1, 1, 1, 1, 1, 1,],\n",
    "    [1, 1, 1, 1, 1, 1, 1, 1, 1, 1, 1, 1, 1, 1, 1, 1, 1, 1, 1, 1,],\n",
    "    [1, 1, 1, 1, 1, 1, 1, 1, 1, 1, 1, 1, 1, 1, 1, 1, 1, 1, 1, 1,],\n",
    "    [1, 1, 1, 1, 1, 1, 1, 1, 1, 1, 1, 1, 1, 1, 1, 1, 1, 1, 1, 1,],\n",
    "    [1, 1, 1, 1, 1, 1, 1, 1, 1, 1, 1, 1, 1, 1, 1, 1, 1, 1, 1, 1,],\n",
    "    [1, 1, 1, 1, 1, 1, 1, 1, 1, 1, 1, 1, 1, 1, 1, 1, 1, 1, 1, 1,],\n",
    "    [1, 1, 1, 1, 1, 1, 1, 1, 1, 1, 1, 1, 1, 1, 1, 1, 1, 1, 1, 1,],\n",
    "    [1, 1, 1, 1, 1, 1, 1, 1, 1, 1, 1, 1, 1, 1, 1, 1, 1, 1, 1, 1,],\n",
    "    [1, 1, 1, 1, 1, 1, 1, 1, 1, 1, 1, 1, 1, 1, 1, 1, 1, 1, 1, 1,],\n",
    "]\n",
    "POS_UP = 1\n",
    "POS_LEFT = 2\n",
    "POS_DOWN = 3\n",
    "POS_RIGHT = 4\n",
    "\n",
    "def mod_map(map,pos_x,pos_y,val):\n",
    "    map[pos_x][pos_y] = val\n",
    "\n",
    "def print_map(map):\n",
    "    rows = len(map)\n",
    "    for i in range(0,rows):\n",
    "        cols = len(map[i])\n",
    "        for j in range(0,cols):\n",
    "            print(str(map[i][j]),end='\\n')\n",
    "\n",
    "\n",
    "class Node(object):\n",
    "    def __init__(self,x,y,h_n=0,g_n=0):\n",
    "        self.pos_x = x\n",
    "        self.pos_y = y\n",
    "        self.parent = None\n",
    "        self.h_n = h_n\n",
    "        self.g_n = g_n\n",
    "        self.f_n = self.h_n + self.g_n\n",
    "\n",
    "    def update_h_n(self,target):\n",
    "        self.h_n = int(math.sqrt((target.pos_x - self.pos_x)**2 + (target.pos_y - self.pos_y)**2))\n",
    "        return self.h_n\n",
    "    def update_g_n(self,source):\n",
    "        self.h_n = int(math.sqrt((source.pos_x - self.pos_x)**2 + (source.pos_y - self.pos_y)**2))\n",
    "        return self.g_n\n",
    "    def update_f_n(self,source,target):\n",
    "        self.f_n = self.update_g_n(source) + self.update_h_n(target)\n",
    "        return self.f_n\n",
    "    def update_parent(self,par):\n",
    "        self.parent = par\n",
    "        return self.parent\n",
    "\n",
    "    def get_adj_node(self,flag,source,target):\n",
    "        if flag == POS_UP:\n",
    "            cur_node = Node(self.pos_x,self.pos_y-1)\n",
    "            cur_node.update_f_n(source,target)\n",
    "            cur_node.parent = self\n",
    "            return cur_node\n",
    "        elif flag == POS_LEFT:\n",
    "            cur_node = Node(self.pos_x-1,self.pos_y)\n",
    "            cur_node.update_f_n(source,target)\n",
    "            cur_node.parent = self\n",
    "            return cur_node\n",
    "        elif flag == POS_DOWN:\n",
    "            cur_node = Node(self.pos_x, self.pos_y+1)\n",
    "            cur_node.update_f_n(source, target)\n",
    "            cur_node.parent = self\n",
    "            return cur_node\n",
    "        elif flag == POS_RIGHT:\n",
    "            cur_node = Node(self.pos_x+1, self.pos_y)\n",
    "            cur_node.update_f_n(source, target)\n",
    "            cur_node.parent = self\n",
    "            return cur_node\n",
    "        else: return None\n",
    "\n",
    "def node_addible(node,open_list,close_list):\n",
    "    index = str(node.pos_x) + '_' + str(node.pos_y)\n",
    "    if index not in open_list and index not in close_list:\n",
    "        open_list[index] = node\n",
    "\n",
    "def reach_end(node,target):\n",
    "    if node and target and node.pos_x == target.pos_x and node.pos_y == target.pos_y:\n",
    "        return True\n",
    "    else:\n",
    "        return False\n",
    "\n",
    "def handle_reach_end(node,map,modval,print_path=False):\n",
    "    if node and map:\n",
    "        while node:\n",
    "            if print_path:\n",
    "                print(\"x:%s,y%s\"%(node.pos_x,node.pos_y))\n",
    "            mod_map(map,node.pos_x,node.pos_y,modval)\n",
    "            node = node.parent\n",
    "\n",
    "def main(source,target,open_list,close_list,map):\n",
    "    open_list[str(source.pos_x) +'_'+str(source.pos_y)] = source\n",
    "    while open_list:\n",
    "        tem_dict = sorted(open_list.items(),key=lambda d:d[1].f_n)\n",
    "        first_key = tem_dict[0][0]\n",
    "        first_node = open_list[first_key]\n",
    "        del open_list[first_key]\n",
    "\n",
    "        up_node = first_node.get_adj_node(POS_UP,source,target)\n",
    "        if reach_end(up_node,target):\n",
    "            handle_reach_end(up_node,map,2)\n",
    "            break\n",
    "\n",
    "        left_node = first_node.get_adj_node(POS_LEFT,source,target)\n",
    "        if reach_end(left_node,target):\n",
    "            handle_reach_end(left_node,map,2)\n",
    "            break\n",
    "\n",
    "        down_node = first_node.get_adj_node(POS_DOWN,source,target)\n",
    "        if reach_end(down_node,target):\n",
    "            handle_reach_end(down_node,map,2)\n",
    "            break\n",
    "\n",
    "        right_node = first_node.get_adj_node(POS_RIGHT,source,target)\n",
    "        if reach_end(right_node,target):\n",
    "            handle_reach_end(right_node,map,2)\n",
    "            break\n",
    "\n",
    "        if first_key not in close_list:\n",
    "            close_list[first_key] = first_node\n",
    "\n",
    "        node_addible(up_node,open_list,close_list)\n",
    "        node_addible(left_node,open_list,close_list)\n",
    "        node_addible(down_node,open_list,close_list)\n",
    "        node_addible(right_node,open_list,close_list)\n",
    "\n",
    "if __name__ == '__main__':\n",
    "    print (\"******************************* before *******************************\")\n",
    "    print(AB_MAP)\n",
    "    OPEN_LIST = {}\n",
    "    CLOSE_LIST = {}\n",
    "\n",
    "    SOURCE = Node(3,4)\n",
    "    TARGET = Node(13,9)\n",
    "    main(SOURCE,TARGET,OPEN_LIST,CLOSE_LIST,AB_MAP)\n",
    "\n",
    "    print (\"******************************** after *******************************\")\n",
    "    mod_map(AB_MAP,SOURCE.pos_x,SOURCE.pos_y,0)\n",
    "    mod_map(AB_MAP,TARGET.pos_x,TARGET.pos_y,0)\n",
    "    print(AB_MAP)"
   ]
  },
  {
   "cell_type": "code",
   "execution_count": null,
   "metadata": {},
   "outputs": [],
   "source": []
  }
 ],
 "metadata": {
  "kernelspec": {
   "display_name": "Python 3",
   "language": "python",
   "name": "python3"
  },
  "language_info": {
   "codemirror_mode": {
    "name": "ipython",
    "version": 3
   },
   "file_extension": ".py",
   "mimetype": "text/x-python",
   "name": "python",
   "nbconvert_exporter": "python",
   "pygments_lexer": "ipython3",
   "version": "3.7.0"
  }
 },
 "nbformat": 4,
 "nbformat_minor": 2
}
