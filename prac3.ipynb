{
 "cells": [
  {
   "cell_type": "markdown",
   "metadata": {},
   "source": [
    "# Introduction to Artificial Intelligence for Non Computing"
   ]
  },
  {
   "cell_type": "markdown",
   "metadata": {},
   "source": [
    "## Practical 3 (weeks 5 - 6)"
   ]
  },
  {
   "cell_type": "markdown",
   "metadata": {},
   "source": [
    "The following links provide additional information about data analysis , machine learning and Numpy"
   ]
  },
  {
   "cell_type": "markdown",
   "metadata": {},
   "source": [
    "Python data analysis: https://www.imooc.com/learn/843\n",
    "machine learning: https://www.imooc.com/learn/717\n",
    "Numpy :https://www.imooc.com/learn/943"
   ]
  },
  {
   "cell_type": "markdown",
   "metadata": {},
   "source": [
    "#### Theory Questions"
   ]
  },
  {
   "cell_type": "markdown",
   "metadata": {},
   "source": [
    "1\\.Which of the following are true and which are false? Give brief explanations.\n",
    "- a. In a fully observable, turn-taking, zero-sum game between two perfectly rational players,it does not help the first player to know what strategy the second player is using—that is, what move the second player will make, given the first player's move.\n",
    "- b. In a partially observable, turn-taking, zero-sum game between two perfectly rational players, it does not help the first player to know what move the second player will make, given the first player's move.\n",
    "- c. A perfectly rational backgammon agent never loses.\n",
    "\n",
    "See textbook Chapter6 24.6"
   ]
  },
  {
   "cell_type": "markdown",
   "metadata": {},
   "source": [
    "_your answer here..._ \n",
    "\n",
    "***"
   ]
  },
  {
   "cell_type": "markdown",
   "metadata": {},
   "source": [
    "2\\.Define in your own words the terms constraint, backtracking search, arc consistency,backjumping, min-conflicts, and cycle cutset.\n",
    "\n",
    "See textbook Chapter6 6.16"
   ]
  },
  {
   "cell_type": "markdown",
   "metadata": {},
   "source": [
    "_your answer here..._ \n",
    "\n",
    "***"
   ]
  },
  {
   "cell_type": "markdown",
   "metadata": {},
   "source": [
    "3\\.Explain why it is a good heuristic to choose the variable that is most constrained but the value that is least constraining in a CSP search.\n",
    "\n",
    "See textbook Chapter6 6.9"
   ]
  },
  {
   "cell_type": "markdown",
   "metadata": {},
   "source": [
    "_your answer here..._ \n",
    "\n",
    "***"
   ]
  },
  {
   "cell_type": "markdown",
   "metadata": {},
   "source": [
    "4\\.Consider the following procedure for choosing moves in games with chance nodes: \n",
    "- 1、Generate some dice-roll sequences (say, 50) down to a suitable depth (say, 8).\n",
    "- 2、With known dice rolls, the game tree becomes deterministic. For each dice-roll sequence,solve the resulting deterministic game tree using alpha-beta.\n",
    "- 3、Use the results to estimate the value of each move and to choose the best.Will this procedure work well? Why (or why not)?\n",
    "\n",
    "See textbook Chapter5 5.19"
   ]
  },
  {
   "cell_type": "markdown",
   "metadata": {},
   "source": [
    "_your answer here..._ \n",
    "\n",
    "***"
   ]
  },
  {
   "cell_type": "markdown",
   "metadata": {},
   "source": [
    "5\\. Now,please consider this game:  there are three plates A, B and C, each plate has three bills. A puts 1, 20, 50; B puts 5, 10, 100; C puts 1, 5, 20. All units are \"Yuan\". There are two persons A and B, and two of them can check out three plates and banknotes .（ A is ourself, The other is B）\n",
    "The game is divided into three steps: \n",
    "- 1、A select a plate from three plate.\n",
    "- 2、B take out two banknotes from A selected plate,and give the  banknotes to A.  \n",
    "- 3、A take one of the two banknotes, and take it away.among,A want to get the max banknotes, B want to let A to get the min.\n",
    "\n",
    "Try to understand the minimax algorithm，you can click the link:https://blog.csdn.net/tangchenyi/article/details/22920031"
   ]
  },
  {
   "cell_type": "markdown",
   "metadata": {},
   "source": [
    "_your answer here..._ \n",
    "\n",
    "***"
   ]
  },
  {
   "cell_type": "markdown",
   "metadata": {},
   "source": [
    "### Programming Excercises"
   ]
  },
  {
   "cell_type": "markdown",
   "metadata": {},
   "source": [
    "1\\. Guess number(Single number): please generate a randomly number  with the function (random), then ask someone to guess the number,I think we should give the corresponding hint, otherwise it will be very difficult to guess the number.the game will be over untill you get the right number."
   ]
  },
  {
   "cell_type": "code",
   "execution_count": 1,
   "metadata": {},
   "outputs": [],
   "source": [
    "## write your answer here!\n",
    "import random\n",
    "\n",
    "def guess(number):\n",
    "    answer = random.randint(0, number + 1)\n",
    "    print(\"Now, you just entered the range of number(0 to you entered number).\"\n",
    "          \"You can guess the number from the range of number\")\n",
    "    guess = int(input(\"Please guess the number:\"))\n",
    "    if guess < answer:\n",
    "        print(\"it's too little!\")\n",
    "    elif guess > answer:\n",
    "        print(\"Sorry, it's a little big.\")\n",
    "\n",
    "    while guess != answer:\n",
    "        newguess = int(input(\"I believe you can guess right. Let's do it again.:\"))\n",
    "        if newguess == answer:\n",
    "            print(\"WOW!Congratulations\")\n",
    "            break\n",
    "        elif newguess < answer:\n",
    "            print(\"it's too little!\")\n",
    "        else:\n",
    "            print(\"Sorry, it's a little big.\")\n",
    "\n",
    "player = input(\"Hi, What's your name?\")\n",
    "print(\"Hello \" + player + \", Let's begin the game.\" )\n",
    "num = int(input(\"Please input a positive number:\"))\n",
    "if num < 0:\n",
    "    newNum = int(input(\"Sorry,\" + player + \", We need you to print a positive number, please input again:\"))\n",
    "    guess(newNum)\n",
    "else:\n",
    "    guess(num)\n"
   ]
  },
  {
   "cell_type": "markdown",
   "metadata": {},
   "source": [
    "2\\.if you had understand the guess single number games,Congratulates,next is the guess three number games,Maybe you can do it well.But this is a different way of thinking. \n",
    "first : we need generate three numbers,there are most ten times chances give  you to guess the number,of course,we also give you some cue.\n",
    "\n",
    "- 'When I say:-->It means:\n",
    "- 'error--> The 3 numbers are not in the mystical numbers.'\n",
    "- 'Only the number is correct --> the number is right , but the position is not right.'\n",
    "- 'Absolutely right--> numbers is right and the position also right.'\n",
    "\n",
    "Maybe it's better for you to understand the rule well through see the picture.\n",
    "<div style=\"float:left;\" ><img src=\"img/p1.png\" width=\"400\" height=\"300\" >"
   ]
  },
  {
   "cell_type": "code",
   "execution_count": null,
   "metadata": {},
   "outputs": [],
   "source": [
    "## write your answer here!\n",
    "print('There are 3 numbers，please Guess what it is.')\n",
    "print('The clue I gave is:')\n",
    "print('When I say:                     It means:')\n",
    "print('error                           The 3 numbers are not in the mystical numbers.')\n",
    "print('Only the number is correct      the number is right , but the position is not right..')\n",
    "print('Absolutely right                numbers is right and the position also right.')\n",
    "\n",
    "\n",
    "def judge(guess,answers):\n",
    "    if guess == answers:\n",
    "        return \"Congratulations! YOU WIN!\"\n",
    "    tips = []\n",
    "    for i in range(len(answers)):\n",
    "        if guess[i] == answers[i]:\n",
    "            tips.append(\"Absolutely right\")\n",
    "        elif guess[i] != answers[i] and guess[i] in answers:\n",
    "            tips.append(\"Only the number is correct\")\n",
    "        else:\n",
    "            tips.append(\"error\")\n",
    "    return tips\n",
    "\n",
    "print(\"Let's begin the game! \")\n",
    "print(\"Remember, You only hava max 10 times to guess!\")\n",
    "while True:\n",
    "    guessTimes = 1\n",
    "    numbers = random.sample(range(0, 9), 3)\n",
    "    #print(numbers)\n",
    "    while guessTimes <= 10:\n",
    "        print(\"This is the \" + str(guessTimes) + \" times:\")\n",
    "        guessNum = input(\"Please input the 3 numbers you guess:\")\n",
    "        guesslist = []\n",
    "        for i in range(len(guessNum)):\n",
    "            guesslist.append(int(guessNum[i]))\n",
    "        #print(guesslist)\n",
    "        print(judge(guesslist,numbers))\n",
    "\n",
    "        if guesslist == numbers:\n",
    "            break\n",
    "\n",
    "        if guessTimes > 10:\n",
    "            print(\"I'm sorry. YOU LOSE! The answer is \" + str(numbers))\n",
    "        guessTimes += 1\n",
    "\n",
    "    again = input(\"Do you want to play again? Y or N\")\n",
    "    if again == \"N\":\n",
    "        break"
   ]
  },
  {
   "cell_type": "markdown",
   "metadata": {},
   "source": [
    "3\\.please try using Python's Tkinter to make a visual interface（GUI）.if you don't know anything.Maybe you can refer to the below interface.and implement it by code.\n",
    "\n",
    "<div style=\"float:left;\" ><img src=\"img/p2.png\" width=\"200\" height=\"200\" >"
   ]
  },
  {
   "cell_type": "code",
   "execution_count": null,
   "metadata": {},
   "outputs": [],
   "source": [
    "## write your answer here!\n",
    "from tkinter import *\n",
    "\n",
    "top = Tk()\n",
    "list1 = ['C', 'python', 'php', 'html', 'SQL', 'java']\n",
    "\n",
    "listb = Listbox(top)\n",
    "for item in list1:\n",
    "    listb.insert(0,item)\n",
    "listb.pack()\n",
    "\n",
    "\n",
    "CheckVar1 = IntVar()\n",
    "CheckVar2 = IntVar()\n",
    "CheckVar3 = IntVar()\n",
    "C1 = Checkbutton(top, text = \"CSS\", variable = CheckVar1,\n",
    "                 onvalue = 10, offvalue = 20, height=2,\n",
    "                 width = 10)\n",
    "C2 = Checkbutton(top, text = \"jQuery\", variable = CheckVar2,\n",
    "                 onvalue = 20, offvalue = 10, height=2,\n",
    "                 width = 10)\n",
    "C1.pack()\n",
    "C2.pack()\n",
    "\n",
    "B = Button(top, text=\"clickme\")\n",
    "B.pack()\n",
    "\n",
    "top.mainloop()"
   ]
  },
  {
   "cell_type": "markdown",
   "metadata": {},
   "source": [
    "4\\.Through the initial trial of Tkinter,    please write a simple calculator.\n",
    "\n",
    "<div style=\"float:left;\" ><img src=\"img/p3.png\" width=\"180\" height=\"200\" center=\"left\"></div>\n",
    "<div style=\"float:left;\" ><img src=\"img/p4.png\" width=\"180\" height=\"200\" center=\"right\" ></div>"
   ]
  },
  {
   "cell_type": "code",
   "execution_count": 2,
   "metadata": {},
   "outputs": [],
   "source": [
    "## write your answer here!\n",
    "from tkinter import *\n",
    "\n",
    "root = Tk()\n",
    "\n",
    "root.geometry('400x500')\n",
    "root.title('simple calculator')\n",
    "\n",
    "frame_show = Frame(width=300, height=150, bg='#dddddd')\n",
    "frame_show.pack()\n",
    "\n",
    "sv = StringVar()\n",
    "sv.set('0')\n",
    "\n",
    "i = ''\n",
    "\n",
    "show_lable = Label(frame_show, text=i, \\\n",
    "                   bg='yellow', width=25, height=1, \\\n",
    "                   font=(\"黑体\", 50, 'bold'), \\\n",
    "                   justify=LEFT, anchor='e')\n",
    "show_lable.pack( padx=10, pady=10 )\n",
    "\n",
    "def delete():\n",
    "    global i\n",
    "    i = i[:-1]\n",
    "    show_lable['text'] = i\n",
    "def clear():\n",
    "    global i\n",
    "    i = ''\n",
    "    show_lable['text'] = i\n",
    "\n",
    "def w():\n",
    "    show_lable['text'] = '我怎么知道'\n",
    "def e():\n",
    "    show_lable['text'] = '我要发了'\n",
    "\n",
    "def operation(op):\n",
    "    global i\n",
    "    i += op\n",
    "    show_lable['text'] = i\n",
    "\n",
    "def equal():\n",
    "    global i\n",
    "    try:\n",
    "        if i != '':\n",
    "            i = '%s'%eval(i)\n",
    "            show_lable['text'] = i\n",
    "    except:\n",
    "        show_lable['text'] = '计算式错误'\n",
    "\n",
    "frame_bord = Frame( width=400, height=350, bg='#CCCCCC' )\n",
    "b_del = Button( frame_bord, text=\"←\", width=10, height=2, \\\n",
    "               command=delete )\n",
    "b_del.grid( row=0, column=2 )\n",
    "b_del = Button( frame_bord, text=\"C\", width=10, height=2, \\\n",
    "               command=clear ).grid( row=0, column=0 )\n",
    "b_del = Button( frame_bord, text=\"±\", width=10, height=2, \\\n",
    "               command=e ).grid( row=0, column=1 )\n",
    "b_del = Button( frame_bord, text=\"CE\", width=10, height=2, \\\n",
    "               command=clear ).grid( row=0, column=3 )\n",
    "\n",
    "\n",
    "\n",
    "b_1 = Button(frame_bord, text='1', width=10, height=4, \\\n",
    "             command=lambda :operation('1')).grid(row=1, column=0)\n",
    "b_2 = Button(frame_bord, text='2', width=10, height=4, \\\n",
    "             command=lambda :operation('2')).grid(row=1, column=1)\n",
    "b_3 = Button(frame_bord, text='3', width=10, height=4, \\\n",
    "             command=lambda :operation('3')).grid(row=1, column=2)\n",
    "b_4 = Button(frame_bord, text='4', width=10, height=4, \\\n",
    "             command=lambda :operation('4')).grid(row=1, column=3)\n",
    "b_5 = Button(frame_bord, text='5', width=10, height=4, \\\n",
    "             command=lambda :operation('5')).grid(row=2, column=0)\n",
    "b_6 = Button(frame_bord, text='6', width=10, height=4, \\\n",
    "             command=lambda :operation('6')).grid(row=2, column=1)\n",
    "b_7 = Button(frame_bord, text='7', width=10, height=4, \\\n",
    "             command=lambda :operation('7')).grid(row=2, column=2)\n",
    "b_8 = Button(frame_bord, text='8', width=10, height=4, \\\n",
    "             command=lambda :operation('8')).grid(row=2, column=3)\n",
    "b_9 = Button(frame_bord, text='9', width=10, height=4, \\\n",
    "             command=lambda :operation('9')).grid(row=3, column=1)\n",
    "b_0 = Button(frame_bord, text='0', width=10, height=4, \\\n",
    "             command=lambda :operation('0')).grid(row=3, column=2)\n",
    "\n",
    "b_d = Button(frame_bord, text='=', width=10, height=4, \\\n",
    "             command=equal).grid(row=3, column=3)\n",
    "b_w = Button(frame_bord, text='.', width=10, height=4, \\\n",
    "             command=lambda :operation('.')).grid(row=3, column=0)\n",
    "\n",
    "b_w = Button(frame_bord, text='help', width=5, height=2, \\\n",
    "             command=w).grid(row=5, column=1)\n",
    "\n",
    "b_jia = Button(frame_bord, text='+', width=10, height=2, \\\n",
    "             command=lambda :operation('+')).grid(row=4, column=0)\n",
    "b_jian = Button(frame_bord, text='-', width=10, height=2, \\\n",
    "             command=lambda :operation('-')).grid(row=4, column=1)\n",
    "b_cheng = Button(frame_bord, text='*', width=10, height=2, \\\n",
    "             command=lambda :operation('*')).grid(row=4, column=2)\n",
    "b_chu = Button(frame_bord, text='/', width=10, height=2, \\\n",
    "             command=lambda :operation('/')).grid(row=4, column=3)\n",
    "\n",
    "frame_bord.pack(padx=10, pady=10)\n",
    "\n",
    "root.mainloop()"
   ]
  },
  {
   "cell_type": "markdown",
   "metadata": {},
   "source": [
    "5\\.Ball game:Python's pinball game, which can realize the game function of the keyboard control bottom baffle moving collision ball similar to table tennis game. \n",
    "\n",
    "<div style=\"float:left;\" ><img src=\"img/p5.png\" width=\"200\" height=\"200\" center=\"left\"></div>\n",
    "<div style=\"float:left;\" ><img src=\"img/p6.png\" width=\"200\" height=\"200\" center=\"right\" ></div>\n"
   ]
  },
  {
   "cell_type": "markdown",
   "metadata": {},
   "source": [
    "this is a step:how to install the matplotlib,you can reference this link:https://blog.csdn.net/not_give_up_/article/details/79058272\n",
    "1. Ball Class\n",
    "    draw is responsible for moving Ball\n",
    "    Collision detection, bounce, Ball detection of Paddle \n",
    "2. Paddle Class\n",
    "    draw is responsible for moving Paddle\n",
    "    Collision detection to determine whether or not to continue ,Monitor keyboard events\n",
    "3. main cycle\n",
    "    Drawing the Ball and Paddle"
   ]
  },
  {
   "cell_type": "code",
   "execution_count": null,
   "metadata": {},
   "outputs": [],
   "source": [
    "## write your answer here!\n",
    "from tkinter import *\n",
    "import matplotlib\n",
    "matplotlib.use('Agg')\n",
    "import random\n",
    "import time\n",
    "class Ball:\n",
    "    def __init__(self, canvas, paddle, color):\n",
    "        self.canvas = canvas\n",
    "        self.paddle = paddle\n",
    "        self.id = canvas.create_oval(10, 10, 25, 25, fill=color)\n",
    "        self.canvas.move(self.id, 245, 100)\n",
    "        startx = [-3, -2, -1, 1, 2, 3]\n",
    "        random.shuffle(startx)\n",
    "        self.x = startx[0]\n",
    "        self.y = -3\n",
    "        self.canvas_height = self.canvas.winfo_height()\n",
    "        self.canvas_width = self.canvas.winfo_width()\n",
    "        self.hit_bottom = False\n",
    "    def draw(self):\n",
    "        self.canvas.move(self.id, self.x, self.y)\n",
    "        pos = self.canvas.coords(self.id)#top-left bottom-right\n",
    "        if (pos[1] <= 0 or self.hit_paddle(pos) == True):\n",
    "            self.y = -self.y\n",
    "        if (pos[0] <= 0 or pos[2] >= self.canvas_width):\n",
    "            self.x = -self.x\n",
    "        if (pos[3] >= self.canvas_height):\n",
    "            self.hit_bottom = True\n",
    "    def hit_paddle(self, pos):\n",
    "        paddle_pos = self.canvas.coords(self.paddle.id)\n",
    "        if (pos[2] >= paddle_pos[0] and pos[0] <= paddle_pos[2]):\n",
    "            if (pos[3] >= paddle_pos[1] and pos[3] <= paddle_pos[3]):\n",
    "                return True\n",
    "        return False\n",
    "class Paddle:\n",
    "    def __init__(self, canvas, color):\n",
    "        self.canvas = canvas\n",
    "        self.id = canvas.create_rectangle(0, 0, 100, 10, fill = color)\n",
    "        self.x = 0\n",
    "        self.canvas.move(self.id, 200, 300)\n",
    "        self.canvas_width = self.canvas.winfo_width()\n",
    "        self.canvas.bind_all(\"<Key-Left>\", self.turn_left)\n",
    "        self.canvas.bind_all(\"<Key-Right>\", self.turn_right)\n",
    "    def draw(self):\n",
    "        pos = self.canvas.coords(self.id)\n",
    "        if (pos[0] + self.x >= 0 and pos[2] + self.x <= self.canvas_width):\n",
    "            self.canvas.move(self.id, self.x, 0)\n",
    "        #self.x = 0\n",
    "    def turn_left(self, event):\n",
    "        self.x = -4\n",
    "    def turn_right(self, event):\n",
    "        self.x = 4\n",
    "tk = Tk()\n",
    "tk.title(\"Game\")\n",
    "tk.resizable(0, 0)#not resizable\n",
    "tk.wm_attributes(\"-topmost\", 1)#at top\n",
    "canvas = Canvas(tk, width = 500, height = 500, bd = 0, highlightthickness = 0)\n",
    "canvas.pack()\n",
    "tk.update()#init\n",
    "paddle = Paddle(canvas, 'blue')\n",
    "ball = Ball(canvas, paddle, 'red')\n",
    "while 1:\n",
    "    if (ball.hit_bottom == False):\n",
    "        ball.draw()\n",
    "        paddle.draw()\n",
    "    tk.update_idletasks()\n",
    "    tk.update()\n",
    "    time.sleep(0.01)\n",
    "\n"
   ]
  }
 ],
 "metadata": {
  "kernelspec": {
   "display_name": "Python 3",
   "language": "python",
   "name": "python3"
  },
  "language_info": {
   "codemirror_mode": {
    "name": "ipython",
    "version": 3
   },
   "file_extension": ".py",
   "mimetype": "text/x-python",
   "name": "python",
   "nbconvert_exporter": "python",
   "pygments_lexer": "ipython3",
   "version": "3.7.0"
  }
 },
 "nbformat": 4,
 "nbformat_minor": 2
}
